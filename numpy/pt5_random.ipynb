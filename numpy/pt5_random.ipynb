{
 "cells": [
  {
   "cell_type": "markdown",
   "metadata": {},
   "source": [
    "Numpy has different random number generators. It will create a random array."
   ]
  },
  {
   "cell_type": "code",
   "execution_count": 16,
   "metadata": {},
   "outputs": [
    {
     "name": "stdout",
     "output_type": "stream",
     "text": [
      "[0.9807642  0.68482974 0.4809319 ]\n"
     ]
    }
   ],
   "source": [
    "import numpy as np \n",
    "\n",
    "print(np.random.rand(3))\n"
   ]
  },
  {
   "cell_type": "markdown",
   "metadata": {},
   "source": [
    "We can pass a seed so the generations are same."
   ]
  },
  {
   "cell_type": "code",
   "execution_count": 17,
   "metadata": {},
   "outputs": [
    {
     "name": "stdout",
     "output_type": "stream",
     "text": [
      "[0.69646919 0.28613933 0.22685145]\n",
      "[0.55131477 0.71946897 0.42310646]\n"
     ]
    }
   ],
   "source": [
    "np.random.seed(123)\n",
    "\n",
    "print(np.random.rand(3))\n",
    "print(np.random.rand(3))"
   ]
  },
  {
   "cell_type": "markdown",
   "metadata": {},
   "source": [
    "Setting seed affects all calls. A more flexible option is to use the default rng class or random state object. This provides more flexibility with your code and we can choose which seed to apply."
   ]
  },
  {
   "cell_type": "code",
   "execution_count": 18,
   "metadata": {},
   "outputs": [
    {
     "name": "stdout",
     "output_type": "stream",
     "text": [
      "Random number generator seed 123: \n",
      "[0.68235186 0.05382102 0.22035987]\n",
      "Random number generator sequential call seed 123: \n",
      " [0.18437181 0.1759059  0.81209451]\n",
      "Random number generator seed 144: \n",
      "[0.79276184 0.05968737 0.29967511]\n",
      "Random number generator sequential call seed 144: \n",
      " [0.09212141 0.295691   0.07230802]\n"
     ]
    }
   ],
   "source": [
    "rng1 = np.random.default_rng(seed=123)\n",
    "val1 = rng1.random(3)\n",
    "val2 = rng1.random(3)\n",
    "print(f'Random number generator seed 123: \\n{val1}')\n",
    "print(f'Random number generator sequential call seed 123: \\n {val2}')\n",
    "\n",
    "\n",
    "rng2 = np.random.default_rng(seed=144)\n",
    "val1 = rng2.random(3)\n",
    "val2 = rng2.random(3)\n",
    "print(f'Random number generator seed 144: \\n{val1}')\n",
    "print(f'Random number generator sequential call seed 144: \\n {val2}')"
   ]
  }
 ],
 "metadata": {
  "kernelspec": {
   "display_name": "ml-basics",
   "language": "python",
   "name": "python3"
  },
  "language_info": {
   "codemirror_mode": {
    "name": "ipython",
    "version": 3
   },
   "file_extension": ".py",
   "mimetype": "text/x-python",
   "name": "python",
   "nbconvert_exporter": "python",
   "pygments_lexer": "ipython3",
   "version": "3.12.7"
  }
 },
 "nbformat": 4,
 "nbformat_minor": 2
}
