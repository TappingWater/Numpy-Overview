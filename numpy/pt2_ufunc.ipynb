{
 "cells": [
  {
   "cell_type": "markdown",
   "metadata": {},
   "source": [
    "Adding 1 to every element in a matrix in python is tedious and inefficient"
   ]
  },
  {
   "cell_type": "code",
   "execution_count": 36,
   "metadata": {},
   "outputs": [
    {
     "name": "stdout",
     "output_type": "stream",
     "text": [
      "[[2, 3, 4], [5, 6, 7]]\n"
     ]
    }
   ],
   "source": [
    "lst = [\n",
    "    [1, 2, 3],\n",
    "\t[4, 5, 6]\n",
    "]\n",
    "\n",
    "for row_idx, row_val in enumerate(lst):\n",
    "\tfor col_idx, col_val in enumerate(row_val):\n",
    "\t\tlst[row_idx][col_idx] += 1\n",
    "\n",
    "print(lst)"
   ]
  },
  {
   "cell_type": "markdown",
   "metadata": {},
   "source": [
    "We can use a unfunc here implemented in C instead"
   ]
  },
  {
   "cell_type": "code",
   "execution_count": 37,
   "metadata": {},
   "outputs": [
    {
     "data": {
      "text/plain": [
       "array([[2, 3, 4],\n",
       "       [5, 6, 7]])"
      ]
     },
     "execution_count": 37,
     "metadata": {},
     "output_type": "execute_result"
    }
   ],
   "source": [
    "import numpy as np \n",
    "\n",
    "arr = np.array([[1, 2, 3], [4, 5, 6]])\n",
    "arr = np.add(arr, 1)\n",
    "arr"
   ]
  },
  {
   "cell_type": "markdown",
   "metadata": {},
   "source": [
    "Numpy uses operator overloading for arithmetic operations. Therefore we can call the functions directly using arithmetic operators. Numpy uses broadcasting when performing matrix operations for which the dimensions don't match."
   ]
  },
  {
   "cell_type": "code",
   "execution_count": 38,
   "metadata": {},
   "outputs": [
    {
     "name": "stdout",
     "output_type": "stream",
     "text": [
      "[[4 5 6]\n",
      " [7 8 9]]\n",
      "[[16 25 36]\n",
      " [49 64 81]]\n"
     ]
    }
   ],
   "source": [
    "arr = arr + 2\n",
    "print(arr)\n",
    "arr = arr ** 2\n",
    "print(arr)"
   ]
  },
  {
   "cell_type": "markdown",
   "metadata": {},
   "source": [
    "Reduce helps to reduce the dimensions of the ndarray by combining values along an axis using a mathematical operator. Uses axis 0 by default if not specified."
   ]
  },
  {
   "cell_type": "code",
   "execution_count": 39,
   "metadata": {},
   "outputs": [
    {
     "name": "stdout",
     "output_type": "stream",
     "text": [
      "[ 65  89 117]\n",
      "[ 77 194]\n",
      "[ 65  89 117]\n"
     ]
    }
   ],
   "source": [
    "arr2 = np.add.reduce(arr)\n",
    "print(arr2)\n",
    "arr3 = np.add.reduce(arr, axis=1)\n",
    "print(arr3)\n",
    "arr4 = arr.sum(axis = 0)\n",
    "print(arr4)"
   ]
  },
  {
   "cell_type": "markdown",
   "metadata": {},
   "source": [
    "To get sample std deviation and variance we have to use degrees of freedom if we want to include bessel's correction for sample std deviation\t\t"
   ]
  },
  {
   "cell_type": "code",
   "execution_count": 40,
   "metadata": {},
   "outputs": [
    {
     "name": "stdout",
     "output_type": "stream",
     "text": [
      "22.34141644768498\n",
      "24.473795510028\n"
     ]
    }
   ],
   "source": [
    "print(np.std(arr))\n",
    "print(np.std(arr, ddof=1))"
   ]
  },
  {
   "cell_type": "markdown",
   "metadata": {},
   "source": [
    "Arg sort returns the original indexes of the sorted array"
   ]
  },
  {
   "cell_type": "code",
   "execution_count": 41,
   "metadata": {},
   "outputs": [
    {
     "name": "stdout",
     "output_type": "stream",
     "text": [
      "[1 3 5 6]\n",
      "[2 3 0 1]\n"
     ]
    }
   ],
   "source": [
    "arr = np.array([5, 6, 1, 3])\n",
    "print(np.sort(arr))\n",
    "print(np.argsort(arr))"
   ]
  },
  {
   "cell_type": "markdown",
   "metadata": {},
   "source": [
    "Get max and index of max"
   ]
  },
  {
   "cell_type": "code",
   "execution_count": 42,
   "metadata": {},
   "outputs": [
    {
     "name": "stdout",
     "output_type": "stream",
     "text": [
      "Max element:  6 found at index: 1\n"
     ]
    }
   ],
   "source": [
    "max = np.max(arr)\n",
    "idx = np.argmax(arr)\n",
    "\n",
    "print(f'Max element:  {max} found at index: {idx}')"
   ]
  }
 ],
 "metadata": {
  "kernelspec": {
   "display_name": "ml-basics",
   "language": "python",
   "name": "python3"
  },
  "language_info": {
   "codemirror_mode": {
    "name": "ipython",
    "version": 3
   },
   "file_extension": ".py",
   "mimetype": "text/x-python",
   "name": "python",
   "nbconvert_exporter": "python",
   "pygments_lexer": "ipython3",
   "version": "3.12.7"
  }
 },
 "nbformat": 4,
 "nbformat_minor": 2
}
