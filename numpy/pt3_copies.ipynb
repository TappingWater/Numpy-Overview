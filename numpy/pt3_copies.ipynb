{
 "cells": [
  {
   "cell_type": "markdown",
   "metadata": {},
   "source": [
    "Slicing and indexing creates a shallow copy of the original in numpy"
   ]
  },
  {
   "cell_type": "code",
   "execution_count": 11,
   "metadata": {},
   "outputs": [
    {
     "name": "stdout",
     "output_type": "stream",
     "text": [
      "First row of array using indexing: \n",
      "[1 2 3]\n",
      "Sliced columns from idx 1 to 2: \n",
      "[[2]\n",
      " [5]]\n",
      "Changing the indexed copy also affect the array: \n",
      "[[2 3 4]\n",
      " [4 5 6]]\n",
      "Changing the sliced copy also affects the array: \n",
      "[[ 2  8  4]\n",
      " [ 4 10  6]]\n"
     ]
    }
   ],
   "source": [
    "import  numpy as np\n",
    "\n",
    "arr = np.array([[1, 2, 3], [4, 5, 6]])\n",
    "first_row = arr[0]\n",
    "print(f'First row of array using indexing: \\n{first_row}')\n",
    "sliced_val = arr[:, 1:2]\n",
    "print(f'Sliced columns from idx 1 to 2: \\n{sliced_val}')\n",
    "# Will alter the original matrix\n",
    "first_row += 1\n",
    "print(f'Changing the indexed copy also affect the array: \\n{arr}')\n",
    "sliced_val +=  5\n",
    "print(f'Changing the sliced copy also affects the array: \\n{arr}')"
   ]
  },
  {
   "cell_type": "markdown",
   "metadata": {},
   "source": [
    "If we want to make a deep copy of a part of an array we can use the copy method\t"
   ]
  },
  {
   "cell_type": "code",
   "execution_count": 12,
   "metadata": {},
   "outputs": [
    {
     "name": "stdout",
     "output_type": "stream",
     "text": [
      "First row of array using indexing: \n",
      "[1 2 3]\n",
      "Sliced columns from idx 1 to 2: \n",
      "[[2]\n",
      " [5]]\n",
      "Changing the deep indexed copy no longer affects the array: \n",
      "[[1 2 3]\n",
      " [4 5 6]]\n",
      "Changing the deep sliced copy no longer affects the array: \n",
      "[[1 2 3]\n",
      " [4 5 6]]\n"
     ]
    }
   ],
   "source": [
    "arr = np.array([[1, 2, 3], [4, 5, 6]])\n",
    "first_row = arr[0].copy()\n",
    "print(f'First row of array using indexing: \\n{first_row}')\n",
    "sliced_val = arr[:, 1:2].copy()\n",
    "print(f'Sliced columns from idx 1 to 2: \\n{sliced_val}')\n",
    "# Will alter the original matrix\n",
    "first_row += 1\n",
    "print(f'Changing the deep indexed copy no longer affects the array: \\n{arr}')\n",
    "sliced_val +=  5\n",
    "print(f'Changing the deep sliced copy no longer affects the array: \\n{arr}')"
   ]
  },
  {
   "cell_type": "markdown",
   "metadata": {},
   "source": [
    "Fancy indexing is also an option that lets us make deep copies. We can also rearrange the array and take specific indexes from the input array using this approach.\t"
   ]
  },
  {
   "cell_type": "code",
   "execution_count": 13,
   "metadata": {},
   "outputs": [
    {
     "name": "stdout",
     "output_type": "stream",
     "text": [
      "Fancy indexed copt of first and second column: \n",
      " [[1 3]\n",
      " [4 6]]\n",
      "Fancy indexed copy of third and first column in opposite order: \n",
      " [[3 1]\n",
      " [6 4]]\n",
      "Adding one to the fancy indexed copy: \n",
      "[[2 4]\n",
      " [5 7]]\n",
      "Original array is unchanged: \n",
      "[[1 2 3]\n",
      " [4 5 6]]\n"
     ]
    }
   ],
   "source": [
    "arr = np.array([[1, 2, 3], [4, 5, 6]])\n",
    "fancy_indexed_copy = arr[:, [0, 2]]\n",
    "print(f\"Fancy indexed copt of first and second column: \\n {fancy_indexed_copy}\")\n",
    "fancy_indexed_copy2 = arr[:, [2, 0]]\n",
    "print(f\"Fancy indexed copy of third and first column in opposite order: \\n {fancy_indexed_copy2}\")\n",
    "fancy_indexed_copy += 1\n",
    "print(f'Adding one to the fancy indexed copy: \\n{fancy_indexed_copy}')\n",
    "print(f'Original array is unchanged: \\n{arr}')"
   ]
  }
 ],
 "metadata": {
  "kernelspec": {
   "display_name": "ml-basics",
   "language": "python",
   "name": "python3"
  },
  "language_info": {
   "codemirror_mode": {
    "name": "ipython",
    "version": 3
   },
   "file_extension": ".py",
   "mimetype": "text/x-python",
   "name": "python",
   "nbconvert_exporter": "python",
   "pygments_lexer": "ipython3",
   "version": "3.12.7"
  }
 },
 "nbformat": 4,
 "nbformat_minor": 2
}
